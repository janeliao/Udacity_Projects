{
 "cells": [
  {
   "cell_type": "markdown",
   "metadata": {},
   "source": []
  },
  {
   "cell_type": "code",
   "execution_count": null,
   "metadata": {
    "collapsed": true
   },
   "outputs": [],
   "source": []
  },
  {
   "cell_type": "markdown",
   "metadata": {},
   "source": [
    "python learning notes\n",
    "\n",
    "\n",
    ".np.random.*非常强大。可以产生随机数（包括随机整数，实数；一维的，二维的等等），还可以产生正态分布的数（既可以用它来产生扰动或者是高斯噪声）。\n",
    "\n",
    "（1）numpy.random.rand(d0, d1, ..., dn) shape为：(d0, d1, ..., dn)\n",
    "\n",
    "（2）numpy.random.normal(loc=0.0, scale=1.0, size=None)loc 均值，scale 标准差，size大小。\n",
    "mu, sigma = 0, 0.1\n",
    "s = np.random.normal(mu, sigma, 1000)\n",
    "abs(mu - np.mean(s)) < 0.01\n",
    "True\n",
    "abs(sigma - np.std(s, ddof=1)) < 0.01\n",
    "True\n",
    "\n",
    "Display the histogram of the samples, along with the probability density function:\n",
    "\n",
    "import matplotlib.pyplot as plt\n",
    "\n",
    "count, bins, ignored = plt.hist(s, 30, normed=True)\n",
    "\n",
    "plt.plot(bins, 1/(sigma * np.sqrt(2 * np.pi)) *\n",
    "\n",
    "\n",
    "np.exp( - (bins - mu)**2 / (2 * sigma**2) ),\n",
    "\n",
    "\n",
    "linewidth=2, color='r')\n",
    " plt.show()\n",
    "![img_name](1.png)\n",
    "\n",
    "（3）numpy.random.uniform(low=0.0, high=1.0, size=1) 均匀分布一样的。\n",
    "\n",
    "（4）多项式函数\n",
    "p=np.poly1d(a),其中，a是多项式由高次到0次方的系数。\n",
    " a\n",
    "array([ 0.97712037, -1.39644265, -0.96801519,  0.97348607,  0.4140714 ])\n",
    " p=np.poly1d(a)\n",
    "type(p)\n",
    "class 'numpy.lib.polynomial.poly1d'>\n",
    "还有一个可以用来做多项式拟合的函数：np.polyfit（）\n",
    "\n",
    "\n",
    "\n",
    "The probability density for the Gaussian distribution is\n",
    "$$\n",
    "p(x) = \\frac{1}{\\sqrt{ 2 \\pi \\sigma^2 }}\n",
    "e^{ - \\frac{ (x - \\mu)^2 } {2 \\sigma^2} },\n",
    "$$\n",
    "\n",
    "\n",
    "where \\mu is the mean and \\sigma the standard deviation. The square of the standard deviation, $\\sigma^2$, is called the variance.\n",
    "The function has its peak at the mean, and its “spread” increases with the standard deviation (the function reaches 0.607 times its maximum at$ x + \\sigma$ and $x - \\sigma [R250])$. This implies that numpy.random.normal is more likely to return samples lying close to the mean, rather than those far away.\n"
   ]
  }
 ],
 "metadata": {
  "kernelspec": {
   "display_name": "Python 2",
   "language": "python",
   "name": "python2"
  },
  "language_info": {
   "codemirror_mode": {
    "name": "ipython",
    "version": 2
   },
   "file_extension": ".py",
   "mimetype": "text/x-python",
   "name": "python",
   "nbconvert_exporter": "python",
   "pygments_lexer": "ipython2",
   "version": "2.7.13"
  }
 },
 "nbformat": 4,
 "nbformat_minor": 2
}

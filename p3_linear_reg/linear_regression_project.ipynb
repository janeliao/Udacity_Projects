{
 "cells": [
  {
   "cell_type": "markdown",
   "metadata": {},
   "source": [
    "# 1 矩阵运算\n",
    "\n",
    "## 1.1 创建一个 4*4 的单位矩阵"
   ]
  },
  {
   "cell_type": "code",
   "execution_count": 495,
   "metadata": {
    "collapsed": false
   },
   "outputs": [],
   "source": [
    "# 这个项目设计来帮你熟悉 python list 和线性代数\n",
    "# 你不能调用任何python库，包括NumPy，来完成作业\n",
    "\n",
    "A = [[1,2,3], \n",
    "     [2,3,3], \n",
    "     [1,2,5]]\n",
    "\n",
    "B = [[1,2,3,5], \n",
    "     [2,3,3,5], \n",
    "     [1,2,5,1]]\n",
    "\n",
    "#TODO 创建一个 4*4 单位矩阵\n",
    "I = [[1,0,0,0],\n",
    "    [0,1,0,0],\n",
    "    [0,0,1,0],\n",
    "    [0,0,0,1]]\n",
    "\n",
    "# print I,'\\n',A"
   ]
  },
  {
   "cell_type": "markdown",
   "metadata": {},
   "source": [
    "## 1.2 返回矩阵的行数和列数"
   ]
  },
  {
   "cell_type": "code",
   "execution_count": 496,
   "metadata": {
    "collapsed": false
   },
   "outputs": [],
   "source": [
    "# TODO 返回矩阵的行数和列数\n",
    "def shape(M):\n",
    "    row_num = len(M)\n",
    "    col_num = len(M[0])\n",
    "    return row_num,col_num"
   ]
  },
  {
   "cell_type": "markdown",
   "metadata": {},
   "source": [
    "## 1.3 每个元素四舍五入到特定小数数位"
   ]
  },
  {
   "cell_type": "code",
   "execution_count": 497,
   "metadata": {
    "collapsed": true
   },
   "outputs": [],
   "source": [
    "# TODO 每个元素四舍五入到特定小数数位\n",
    "# 直接修改参数矩阵，无返回值\n",
    "def matxRound(M, decPts=4):\n",
    "    for x in range(0,len(M)):\n",
    "        for y in range(0,len(M[0])):\n",
    "            M[x][y] = round(M[x][y],decPts)\n",
    "    pass"
   ]
  },
  {
   "cell_type": "markdown",
   "metadata": {},
   "source": [
    "## 1.4 计算矩阵的转置"
   ]
  },
  {
   "cell_type": "code",
   "execution_count": 498,
   "metadata": {
    "collapsed": false
   },
   "outputs": [],
   "source": [
    "# TODO 计算矩阵的转置\n",
    "def transpose(M):\n",
    "    row_num,col_num = shape(M)\n",
    "    MT = []\n",
    "    \n",
    "    for c in range(0,col_num):\n",
    "        MTi = []\n",
    "        for r in range(0,row_num):\n",
    "            MTi.append(M[r][c])\n",
    "        MT.append(MTi)\n",
    "    return MT"
   ]
  },
  {
   "cell_type": "markdown",
   "metadata": {},
   "source": [
    "## 1.5 计算矩阵乘法 AB"
   ]
  },
  {
   "cell_type": "code",
   "execution_count": 499,
   "metadata": {
    "collapsed": false
   },
   "outputs": [],
   "source": [
    "# TODO 计算矩阵乘法 AB，如果无法相乘则返回None\n",
    "def matxMultiply(A, B):\n",
    "    def dot_product(C,D):\n",
    "        n = len(C)\n",
    "        sum = 0\n",
    "        for i in range(0,n):\n",
    "            a = C[i]*D[i]\n",
    "            sum += a\n",
    "        return sum\n",
    "    \n",
    "    # 判断是否可以相乘\n",
    "    row_num_A, col_num_A = shape(A)\n",
    "    row_num_B, col_num_B = shape(B)\n",
    "    E = transpose(B)\n",
    "    if col_num_A != row_num_B:\n",
    "        return None\n",
    "    else:\n",
    "        C = []\n",
    "        for i in range(0,row_num_A):\n",
    "            Ci = []\n",
    "            for j in range(0,col_num_B):\n",
    "                a = dot_product(A[i],E[j])\n",
    "                Ci.append(a)\n",
    "            C.append(Ci)\n",
    "    return C\n",
    "\n",
    "#print matxMultiply(A,B)"
   ]
  },
  {
   "cell_type": "markdown",
   "metadata": {},
   "source": [
    "## 1.6 测试你的函数是否实现正确"
   ]
  },
  {
   "cell_type": "markdown",
   "metadata": {},
   "source": [
    "**提示：** 你可以用`from pprint import pprint`来更漂亮的打印数据，详见[用法示例](http://cn-static.udacity.com/mlnd/images/pprint.png)和[文档说明](https://docs.python.org/2/library/pprint.html#pprint.pprint)。"
   ]
  },
  {
   "cell_type": "code",
   "execution_count": 500,
   "metadata": {
    "collapsed": false
   },
   "outputs": [
    {
     "name": "stdout",
     "output_type": "stream",
     "text": [
      "(3, 3)\n",
      "\n",
      "[[1.0193, 0.3987, 1.2346],\n",
      " [0.3478, 2.4467, 0.3552]]\n",
      "\n",
      "[[1, 2, 1],\n",
      " [2, 3, 2],\n",
      " [3, 3, 5],\n",
      " [5, 5, 1]]\n",
      "[[1, 2, 3, 5],\n",
      " [2, 3, 3, 5],\n",
      " [1, 2, 5, 1]]\n",
      "\n",
      "None\n",
      "\n",
      "[[8, 14, 24, 18],\n",
      " [11, 19, 30, 28],\n",
      " [10, 18, 34, 20]]\n",
      "\n"
     ]
    }
   ],
   "source": [
    "import pprint\n",
    "pp = pprint.PrettyPrinter(indent=1,width=40)\n",
    "#TODO 测试1.2 返回矩阵的行和列\n",
    "pp.pprint(shape(A))\n",
    "print ''\n",
    "\n",
    "#TODO 测试1.3 每个元素四舍五入到特定小数数位\n",
    "C = [[1.01928,0.398747,1.23456],[0.347758,2.446672,0.35521]]\n",
    "matxRound(C)\n",
    "pp.pprint(C)\n",
    "print ''\n",
    "\n",
    "#TODO 测试1.4 计算矩阵的转置\n",
    "b = transpose(B)\n",
    "pp.pprint(b)\n",
    "bb = transpose(b)\n",
    "pp.pprint(bb)\n",
    "print ''\n",
    "\n",
    "#TODO 测试1.5 计算矩阵乘法AB，AB无法相乘\n",
    "C = [[0,1,2],[1,2,3]]\n",
    "b = matxMultiply(A,C)\n",
    "pp.pprint(b)\n",
    "print ''\n",
    "#TODO 测试1.5 计算矩阵乘法AB，AB可以相乘\n",
    "b = matxMultiply(A,B)\n",
    "pp.pprint(b)\n",
    "print ''"
   ]
  },
  {
   "cell_type": "markdown",
   "metadata": {},
   "source": [
    "# 2 Gaussign Jordan 消元法\n",
    "\n",
    "## 2.1 构造增广矩阵\n",
    "\n",
    "$ A = \\begin{bmatrix}\n",
    "    a_{11}    & a_{12} & ... & a_{1n}\\\\\n",
    "    a_{21}    & a_{22} & ... & a_{2n}\\\\\n",
    "    a_{31}    & a_{22} & ... & a_{3n}\\\\\n",
    "    ...    & ... & ... & ...\\\\\n",
    "    a_{n1}    & a_{n2} & ... & a_{nn}\\\\\n",
    "\\end{bmatrix} , b = \\begin{bmatrix}\n",
    "    b_{1}  \\\\\n",
    "    b_{2}  \\\\\n",
    "    b_{3}  \\\\\n",
    "    ...    \\\\\n",
    "    b_{n}  \\\\\n",
    "\\end{bmatrix}$\n",
    "\n",
    "返回 $ Ab = \\begin{bmatrix}\n",
    "    a_{11}    & a_{12} & ... & a_{1n} & b_{1}\\\\\n",
    "    a_{21}    & a_{22} & ... & a_{2n} & b_{2}\\\\\n",
    "    a_{31}    & a_{22} & ... & a_{3n} & b_{3}\\\\\n",
    "    ...    & ... & ... & ...& ...\\\\\n",
    "    a_{n1}    & a_{n2} & ... & a_{nn} & b_{n} \\end{bmatrix}$"
   ]
  },
  {
   "cell_type": "code",
   "execution_count": 501,
   "metadata": {
    "collapsed": false
   },
   "outputs": [
    {
     "name": "stdout",
     "output_type": "stream",
     "text": [
      "[[1, 2, 3, 1], [2, 3, 3, 2], [1, 2, 5, 3]]\n"
     ]
    }
   ],
   "source": [
    "# TODO 构造增广矩阵，假设A，b行数相同\n",
    "\n",
    "\n",
    "#from decimal import *\n",
    "def augmentMatrix(A, b):\n",
    "    \n",
    "    Ab = [[0]*(len(A[0])+1) for i in range (len(A))]\n",
    "\n",
    "    for i in range (len(A)):\n",
    "        for j in range (len(A[0])):\n",
    "            Ab[i][j] = A[i][j]\n",
    "        Ab[i][len(A[0])] = b[i][0]\n",
    "    return Ab \n",
    "\n",
    "'''                      \n",
    "    num_row_A = len(A)\n",
    "    num_row_b = len(b) \n",
    "    num_col_A = len(A[0])\n",
    "    if  not num_row_A == num_row_b:\n",
    "        return None\n",
    "    else:\n",
    "        C = []\n",
    "        for i in range(0,num_row_A):\n",
    "            Ci = [] \n",
    "            \n",
    "            for j in range(0,num_col_A):\n",
    "                \n",
    "                Ci.append(A[i][j])\n",
    "            Ci.append(b[i])\n",
    "            C.append(Ci)\n",
    "    return C '''\n",
    "    \n",
    "c = [[1],[2],[3]]\n",
    "\n",
    "A = [[1,2,3], \n",
    "     [2,3,3], \n",
    "     [1,2,5]]\n",
    "print augmentMatrix(A,c) \n"
   ]
  },
  {
   "cell_type": "markdown",
   "metadata": {},
   "source": [
    "## 2.2 初等行变换\n",
    "- 交换两行\n",
    "- 把某行乘以一个非零常数\n",
    "- 把某行加上另一行的若干倍："
   ]
  },
  {
   "cell_type": "code",
   "execution_count": 502,
   "metadata": {
    "collapsed": false
   },
   "outputs": [
    {
     "name": "stdout",
     "output_type": "stream",
     "text": [
      "[[3, 6, 13], [2, 3, 3], [1, 2, 5]]\n"
     ]
    }
   ],
   "source": [
    "# TODO r1 <---> r2 \n",
    "# 直接修改参数矩阵，无返回值\n",
    "def swapRows(M, r1, r2):\n",
    "#     pass\n",
    "\n",
    "    M[r1],M[r2] = M[r2],M[r1]\n",
    "#    return M\n",
    "\n",
    "        \n",
    "    \n",
    "\n",
    "# TODO r1 <--- r1 * scale， scale!=0\n",
    "# 直接修改参数矩阵，无返回值\n",
    "def scaleRow(M, r, scale):\n",
    "    pass\n",
    "    \n",
    "    if not scale == 0:\n",
    "        M[r]=[scale*x for x in M[r]]\n",
    "    else:\n",
    "        raise ValueError \n",
    "        \n",
    "# TODO r1 <--- r1 + r2*scale\n",
    "# 直接修改参数矩阵，无返回值\n",
    "def addScaledRow(M, r1, r2, scale):\n",
    "#     pass\n",
    "    for i in range(len(M[r1])):\n",
    "        M[r1][i] = M[r1][i] + scale*M[r2][i]\n",
    "'''    num_col = len(M[0])\n",
    "\n",
    "    if not scale == 0:\n",
    "        scaleRow(M,r2,scale)\n",
    "        M[r1]=[x+y for x,y in zip(M[r1],M[r2])]\n",
    "\n",
    "    else:\n",
    "        raise False\n",
    "        '''\n",
    "\n",
    "A = [[1,2,3], \n",
    "     [2,3,3], \n",
    "     [1,2,5]]\n",
    "addScaledRow(A,0,2,2)\n",
    "print A"
   ]
  },
  {
   "cell_type": "markdown",
   "metadata": {},
   "source": [
    "## 2.3  Gaussian Jordan 消元法求解 Ax = b"
   ]
  },
  {
   "cell_type": "code",
   "execution_count": null,
   "metadata": {
    "collapsed": true
   },
   "outputs": [],
   "source": []
  },
  {
   "cell_type": "markdown",
   "metadata": {},
   "source": [
    "### 提示：\n",
    "\n",
    "步骤1 检查A，b是否行数相同\n",
    "\n",
    "步骤2 构造增广矩阵Ab\n",
    "\n",
    "步骤3 逐列转换Ab为化简行阶梯形矩阵 [中文维基链接](https://zh.wikipedia.org/wiki/%E9%98%B6%E6%A2%AF%E5%BD%A2%E7%9F%A9%E9%98%B5#.E5.8C.96.E7.AE.80.E5.90.8E.E7.9A.84-.7Bzh-hans:.E8.A1.8C.3B_zh-hant:.E5.88.97.3B.7D-.E9.98.B6.E6.A2.AF.E5.BD.A2.E7.9F.A9.E9.98.B5)\n",
    "    \n",
    "    对于Ab的每一列（最后一列除外）\n",
    "        当前列为列c\n",
    "        寻找列c中 对角线以及对角线以下所有元素（行 c~N）的绝对值的最大值\n",
    "        如果绝对值最大值为0\n",
    "            那么A为奇异矩阵，返回None （请在问题2.4中证明该命题）\n",
    "        否则\n",
    "            使用第一个行变换，将绝对值最大值所在行交换到对角线元素所在行（行c） \n",
    "            使用第二个行变换，将列c的对角线元素缩放为1\n",
    "            多次使用第三个行变换，将列c的其他元素消为0\n",
    "            \n",
    "步骤4 返回Ab的最后一列\n",
    "\n",
    "### 注：\n",
    "我们并没有按照常规方法先把矩阵转化为行阶梯形矩阵，再转换为化简行阶梯形矩阵，而是一步到位。如果你熟悉常规方法的话，可以思考一下两者的等价性。"
   ]
  },
  {
   "cell_type": "code",
   "execution_count": 509,
   "metadata": {
    "collapsed": false
   },
   "outputs": [],
   "source": [
    "# TODO 实现 Gaussain Jordan 方法求解 Ax = b\n",
    "\n",
    "\"\"\" Gaussian Jordan 方法求解 Ax = b.\n",
    "    参数\n",
    "        A: 方阵 \n",
    "        b: 列向量\n",
    "        decPts: 四舍五入位数，默认为4\n",
    "        epsilon: 判读是否为0的阈值，默认 1.0e-16\n",
    "        \n",
    "    返回列向量 x 使得 Ax = b \n",
    "    返回None，如果 A，b 高度不同\n",
    "    返回None，如果 A 为奇异矩阵\n",
    "\"\"\"\n",
    "\n",
    "def gj_Solve(A, b, decPts=4, epsilon = 1.0e-16):\n",
    "    # 验证矩阵形状是否相符\n",
    "    num_row_A , num_col_A = shape(A)\n",
    "    num_row_b = len(b)\n",
    "    if num_row_b != num_row_A:\n",
    "        #print 'shape error'\n",
    "        return None\n",
    "    else:\n",
    "        # 构造增广矩阵 Ab\n",
    "        Ab = augmentMatrix(A,b)\n",
    "        #print Ab        \n",
    "        # 对于除最后一列外的每一列 c\n",
    "        i = 0\n",
    "        while i< num_col_A:\n",
    "            Ab_T = transpose(Ab)\n",
    "            c = Ab_T[i]\n",
    "            # 通过绝对值的最大值判断矩阵形式\n",
    "            c_a = [abs(ii) for ii in c[i:]]\n",
    "            c_a_max =  max([abs(ii) for ii in c[i:]])\n",
    "            c_a_max_index = c_a.index(c_a_max)+i #最大值的行号\n",
    "            if c_a_max <= epsilon:\n",
    "                #print '矩阵为奇异矩阵'\n",
    "                return None\n",
    "            else:\n",
    "                # 使用第一个行变换交换最大值行和对角线行\n",
    "                swapRows(Ab,i,c_a_max_index)                \n",
    "                # 使用第二个行变换使对角线值归一\n",
    "                scaleRow(Ab,i,1./Ab[i][i])\n",
    "                # 使用第三个行变换遍历除对角线位置外的所有行，使其归零\n",
    "                for ii in range(0,len(Ab)):\n",
    "                    if ii != i:\n",
    "                        addScaledRow(Ab,ii,i,-1.0*Ab[ii][i]/Ab[i][i])\n",
    "                #print Ab\n",
    "            i += 1\n",
    "        #print Ab\n",
    "    N = transpose(Ab)[-1]\n",
    "    return [[N[j]] for j in range(len(N))]\n",
    "\n",
    "\n",
    "\n"
   ]
  },
  {
   "cell_type": "markdown",
   "metadata": {},
   "source": [
    "## 2.4 证明下面的命题：\n",
    "\n",
    "**如果方阵 A 可以被分为4个部分: ** \n",
    "\n",
    "$ A = \\begin{bmatrix}\n",
    "    I    & X \\\\\n",
    "    Z    & Y \\\\\n",
    "\\end{bmatrix} , \\text{其中 I 为单位矩阵，Z 为全0矩阵，Y 的第一列全0}$，\n",
    "\n",
    "**那么A为奇异矩阵。**\n",
    "\n",
    "\n",
    "提示：从多种角度都可以完成证明\n",
    "- 考虑矩阵 Y 和 矩阵 A 的秩\n",
    "- 考虑矩阵 Y 和 矩阵 A 的行列式\n",
    "- 考虑矩阵 A 的某一列是其他列的线性组合"
   ]
  },
  {
   "cell_type": "markdown",
   "metadata": {},
   "source": [
    "TODO 请使用 latex （请参照题目的 latex 写法学习）\n",
    "\n",
    "TODO 证明：$  \\left|A \\right| =  \\left|I \\right| \\times  \\left|Y \\right| -  \\left|Z \\right| \\times  \\left|X \\right| $\n",
    "           其中Z为全0矩阵，Y的第一列全为0 ,I为单位矩阵。\n",
    "           故有 $  \\left|Z \\right| = 0 ，\\left|Y \\right| = 0 ，\\left|I \\right| = 1 $ \n",
    "           所以 $  \\left|A \\right| =  1 \\times  0 -  0 \\times  \\left|X \\right| $\n",
    "           所以 $  \\left|A \\right| = 0 $ ，A为奇异矩阵。\n",
    "\n",
    "       \n"
   ]
  },
  {
   "cell_type": "markdown",
   "metadata": {},
   "source": [
    "## 2.5 测试 gj_Solve() 实现是否正确"
   ]
  },
  {
   "cell_type": "code",
   "execution_count": 545,
   "metadata": {
    "collapsed": false
   },
   "outputs": [
    {
     "name": "stdout",
     "output_type": "stream",
     "text": [
      "None\n",
      "[[-3.0], [2.0], [1.0]]\n",
      "[-3.0, 2.0, 1.0]\n",
      "[[0], [0], [0]]\n",
      "True\n"
     ]
    }
   ],
   "source": [
    "# TODO 构造 矩阵A，列向量b，其中 A 为奇异矩阵\n",
    "A = [[0,1,2],[0,2,3],[0,0,1]]\n",
    "b = [[1],[2],[3]]\n",
    "print gj_Solve(A,b)\n",
    "  \n",
    "\n",
    "# TODO 构造 矩阵A，列向量b，其中 A 为非奇异矩阵\n",
    "A = [[1,2,0],[0,1,0],[0,0,1]]\n",
    "b = [[1],[2],[1]]\n",
    "\n",
    "\n",
    "# TODO 求解 x 使得 Ax = b\n",
    "x = gj_Solve(A,b)\n",
    "print x\n",
    "# TODO 计算 Ax\n",
    "num_row_A , num_col_A = shape(A)\n",
    "s = []\n",
    "for i in range(0,3):\n",
    "    s.append(x[i][0])\n",
    "print s\n",
    "Ax = [[0] for i in range(len(b))]\n",
    "print Ax\n",
    "for i in range(0,num_row_A):\n",
    "    c = [m*y for m,y in zip(s[:],A[i][:])]    \n",
    "    Ax[i] = [sum(c)]\n",
    "# TODO 比较 Ax 与 b\n",
    "print Ax == b\n"
   ]
  },
  {
   "cell_type": "markdown",
   "metadata": {},
   "source": [
    "# 3 线性回归: \n",
    "\n",
    "## 3.1 计算损失函数相对于参数的导数 (两个3.1 选做其一)\n",
    "\n",
    "我们定义损失函数 E ：\n",
    "$$\n",
    "E = \\sum_{i=1}^{n}{(y_i - mx_i - b)^2}\n",
    "$$\n",
    "\n",
    "证明：\n",
    "$$\n",
    "\\frac{\\partial E}{\\partial m} = \\sum_{i=1}^{n}{-2x_i(y_i - mx_i - b)}\n",
    "$$\n",
    "\n",
    "$$\n",
    "\\frac{\\partial E}{\\partial b} = \\sum_{i=1}^{n}{-2(y_i - mx_i - b)}\n",
    "$$\n",
    "\n",
    "$$\n",
    "\\begin{bmatrix}\n",
    "    \\frac{\\partial E}{\\partial m} \\\\\n",
    "    \\frac{\\partial E}{\\partial b} \n",
    "\\end{bmatrix} = 2X^TXh - 2X^TY\n",
    "$$\n",
    "\n",
    "$$ \n",
    "\\text{其中 }\n",
    "Y =  \\begin{bmatrix}\n",
    "    y_1 \\\\\n",
    "    y_2 \\\\\n",
    "    ... \\\\\n",
    "    y_n\n",
    "\\end{bmatrix}\n",
    ",\n",
    "X =  \\begin{bmatrix}\n",
    "    x_1 & 1 \\\\\n",
    "    x_2 & 1\\\\\n",
    "    ... & ...\\\\\n",
    "    x_n & 1 \\\\\n",
    "\\end{bmatrix},\n",
    "h =  \\begin{bmatrix}\n",
    "    m \\\\\n",
    "    b \\\\\n",
    "\\end{bmatrix}\n",
    "$$"
   ]
  },
  {
   "cell_type": "markdown",
   "metadata": {},
   "source": [
    "TODO 请使用 latex （参照题目的 latex写法学习）\n",
    "\n",
    "TODO 证明：$$  X^T = \\begin{bmatrix}\n",
    "    x_1 & x_2 & ... & x_n \\\\\n",
    "    1 & 1 & ... & 1\\\\\n",
    "\\end{bmatrix}, $$\n",
    "\n",
    "$$\n",
    "X^TXh = \\begin{bmatrix}\n",
    "    x_1 & x_2 & ... & x_n \\\\\n",
    "    1 & 1 & ... & 1\\\\\n",
    "\\end{bmatrix}  \\begin{bmatrix}\n",
    "    x_1 & 1 \\\\\n",
    "    x_2 & 1\\\\\n",
    "    ... & ...\\\\\n",
    "    x_n & 1 \\\\\n",
    "\\end{bmatrix} \\begin{bmatrix}\n",
    "    m \\\\\n",
    "    b \\\\\n",
    "\\end{bmatrix}= \\begin{bmatrix}\n",
    "     \\sum_{i=1}^{n}\\limits{x_i^2} & \\sum_{i=1}^{n}\\limits{x_i}\\\\\n",
    "    \\sum_{i=1}^{n}\\limits{x_i} & n\\\\\n",
    "\\end{bmatrix} \\begin{bmatrix}\n",
    "    m \\\\\n",
    "    b \\\\\n",
    "\\end{bmatrix} $$\n",
    "\n",
    "$$\n",
    "X^TXh = \\begin{bmatrix}\n",
    "     \\sum_{i=1}^{n}\\limits{x_i^2} & \\sum_{i=1}^{n}\\limits{x_i}\\\\\n",
    "    \\sum_{i=1}^{n}\\limits{x_i} & n\\\\\n",
    "\\end{bmatrix} \\begin{bmatrix}\n",
    "    m \\\\\n",
    "    b \\\\\n",
    "\\end{bmatrix} = \\begin{bmatrix}\n",
    "     \\sum_{i=1}^{n}\\limits{x_i(mx_i+b)} \\\\\n",
    "     \\sum_{i=1}^{n}\\limits{mx_i+b}\\\\\n",
    "\\end{bmatrix} $$\n",
    "\n",
    "$$\n",
    "X^TY = \\begin{bmatrix}\n",
    "    x_1 & x_2 & ... & x_n \\\\\n",
    "    1 & 1 & ... & 1\\\\\n",
    "\\end{bmatrix} \\begin{bmatrix}\n",
    "    y_1 \\\\\n",
    "    y_2 \\\\\n",
    "    ... \\\\\n",
    "    y_n\n",
    "\\end{bmatrix} = \\begin{bmatrix}\n",
    "    \\sum_{i=1}^{n}\\limits{x_iy_i} \\\\\n",
    "    \\sum_{i=1}^{n}\\limits{y_i} \\\\\n",
    "\\end{bmatrix}\n",
    "$$\n",
    "\n",
    "$$\n",
    "2X^TXh-2X^TY = 2\\begin{bmatrix}\n",
    "     \\sum_{i=1}^{n}\\limits{x_i(mx_i+b)} \\\\\n",
    "     \\sum_{i=1}^{n}\\limits{mx_i+b}\\\\\n",
    "\\end{bmatrix}-2\\begin{bmatrix}\n",
    "    \\sum_{i=1}^{n}\\limits{x_iy_i} \\\\\n",
    "    \\sum_{i=1}^{n}\\limits{y_i} \\\\\n",
    "\\end{bmatrix} = \\begin{bmatrix}\n",
    "     \\sum_{i=1}^{n}\\limits{-2x_i(y_i-mx_i-b)} \\\\\n",
    "     \\sum_{i=1}^{n}\\limits{-2(y_i-mx_i-b}\\\\\n",
    "\\end{bmatrix} = \\begin{bmatrix}\n",
    "    \\frac{\\partial E}{\\partial m} \\\\\n",
    "    \\frac{\\partial E}{\\partial b} \n",
    "\\end{bmatrix} \n",
    "$$\n",
    "\n",
    "$$\n",
    "所以\\begin{bmatrix}\n",
    "    \\frac{\\partial E}{\\partial m} \\\\\n",
    "    \\frac{\\partial E}{\\partial b} \n",
    "\\end{bmatrix} = 2X^TXh - 2X^TY 成立\n",
    "$$\n",
    "        "
   ]
  },
  {
   "cell_type": "markdown",
   "metadata": {},
   "source": [
    "## 3.1 计算损失函数相对于参数的导数（两个3.1 选做其一）\n",
    "\n",
    "证明：\n",
    "\n",
    "$$\n",
    "E = Y^TY -2(Xh)^TY + (Xh)^TXh\n",
    "$$ \n",
    "\n",
    "$$\n",
    "\\begin{bmatrix}\n",
    "    \\frac{\\partial E}{\\partial m} \\\\\n",
    "    \\frac{\\partial E}{\\partial b} \n",
    "\\end{bmatrix}  = \\frac{\\partial E}{\\partial h} = 2X^TXh - 2X^TY\n",
    "$$\n",
    "\n",
    "$$ \n",
    "\\text{其中 }\n",
    "Y =  \\begin{bmatrix}\n",
    "    y_1 \\\\\n",
    "    y_2 \\\\\n",
    "    ... \\\\\n",
    "    y_n\n",
    "\\end{bmatrix}\n",
    ",\n",
    "X =  \\begin{bmatrix}\n",
    "    x_1 & 1 \\\\\n",
    "    x_2 & 1\\\\\n",
    "    ... & ...\\\\\n",
    "    x_n & 1 \\\\\n",
    "\\end{bmatrix},\n",
    "h =  \\begin{bmatrix}\n",
    "    m \\\\\n",
    "    b \\\\\n",
    "\\end{bmatrix}\n",
    "$$"
   ]
  },
  {
   "cell_type": "markdown",
   "metadata": {},
   "source": [
    "TODO 请使用 latex （请参照题目的 latex 写法学习）\n",
    "\n",
    "TODO 证明："
   ]
  },
  {
   "cell_type": "markdown",
   "metadata": {},
   "source": [
    "## 3.2  线性回归\n",
    "\n",
    "### 求解方程 $X^TXh = X^TY $, 计算线性回归的最佳参数 h"
   ]
  },
  {
   "cell_type": "code",
   "execution_count": 505,
   "metadata": {
    "collapsed": true
   },
   "outputs": [],
   "source": [
    "# TODO 实现线性回归\n",
    "'''\n",
    "参数：(x,y) 二元组列表\n",
    "返回：m，b\n",
    "'''\n",
    "def linearRegression(points):\n",
    "    X = [x for x,y in points]\n",
    "    Y = [y for x,y in points]\n",
    "    return 0,0"
   ]
  },
  {
   "cell_type": "markdown",
   "metadata": {},
   "source": [
    "## 3.3 测试你的线性回归实现"
   ]
  },
  {
   "cell_type": "code",
   "execution_count": 506,
   "metadata": {
    "collapsed": false
   },
   "outputs": [],
   "source": [
    "# TODO 构造线性函数\n",
    "\n",
    "# TODO 构造 100 个线性函数上的点，加上适当的高斯噪音\n",
    "import random\n",
    "\n",
    "#TODO 对这100个点进行线性回归，将线性回归得到的函数和原线性函数比较"
   ]
  },
  {
   "cell_type": "markdown",
   "metadata": {},
   "source": [
    "## 4.1 单元测试\n",
    "\n",
    "请确保你的实现通过了以下所有单元测试。"
   ]
  },
  {
   "cell_type": "code",
   "execution_count": 508,
   "metadata": {
    "collapsed": false
   },
   "outputs": [
    {
     "name": "stderr",
     "output_type": "stream",
     "text": [
      "test_addScaleRow (__main__.LinearRegressionTestCase) ... ok\n",
      "test_augmentMatrix (__main__.LinearRegressionTestCase) ... ok\n",
      "test_gj_Solve (__main__.LinearRegressionTestCase) ... ok\n",
      "test_matxMultiply (__main__.LinearRegressionTestCase) ... ok\n",
      "test_matxRound (__main__.LinearRegressionTestCase) ... ok\n",
      "test_scaleRow (__main__.LinearRegressionTestCase) ... ok\n",
      "test_shape (__main__.LinearRegressionTestCase) ... ok\n",
      "test_swapRows (__main__.LinearRegressionTestCase) ... ok\n",
      "test_transpose (__main__.LinearRegressionTestCase) ... ok\n",
      "\n",
      "----------------------------------------------------------------------\n",
      "Ran 9 tests in 0.077s\n",
      "\n",
      "OK\n"
     ]
    },
    {
     "data": {
      "text/plain": [
       "<unittest.runner.TextTestResult run=9 errors=0 failures=0>"
      ]
     },
     "execution_count": 508,
     "metadata": {},
     "output_type": "execute_result"
    }
   ],
   "source": [
    "import unittest\n",
    "import numpy as np\n",
    "\n",
    "from decimal import *\n",
    "\n",
    "class LinearRegressionTestCase(unittest.TestCase):\n",
    "    \"\"\"Test for linear regression project\"\"\"\n",
    "\n",
    "    def test_shape(self):\n",
    "\n",
    "        for _ in range(10):\n",
    "            r,c = np.random.randint(low=1,high=25,size=2)\n",
    "            matrix = np.random.randint(low=-10,high=10,size=(r,c))\n",
    "            self.assertEqual(shape(matrix.tolist()),(r,c))\n",
    "\n",
    "\n",
    "    def test_matxRound(self):\n",
    "\n",
    "        for decpts in range(10):\n",
    "            r,c = np.random.randint(low=1,high=25,size=2)\n",
    "            matrix = np.random.random((r,c))\n",
    "\n",
    "            mat = matrix.tolist()\n",
    "            dec_true = [[Decimal(str(round(num,decpts))) for num in row] for row in mat]\n",
    "\n",
    "            matxRound(mat,decpts)\n",
    "            dec_test = [[Decimal(str(num)) for num in row] for row in mat]\n",
    "\n",
    "            res = Decimal('0')\n",
    "            for i in range(len(mat)):\n",
    "                for j in range(len(mat[0])):\n",
    "                    res += dec_test[i][j].compare_total(dec_true[i][j])\n",
    "\n",
    "            self.assertEqual(res,Decimal('0'))\n",
    "\n",
    "\n",
    "    def test_transpose(self):\n",
    "        for _ in range(10):\n",
    "            r,c = np.random.randint(low=1,high=25,size=2)\n",
    "            matrix = np.random.random((r,c))\n",
    "\n",
    "            mat = matrix.tolist()\n",
    "            t = np.array(transpose(mat))\n",
    "\n",
    "            self.assertEqual(t.shape,(c,r))\n",
    "            self.assertTrue((matrix.T == t).all())\n",
    "\n",
    "\n",
    "    def test_matxMultiply(self):\n",
    "\n",
    "        for _ in range(10):\n",
    "            r,d,c = np.random.randint(low=1,high=25,size=3)\n",
    "            mat1 = np.random.randint(low=-10,high=10,size=(r,d)) \n",
    "            mat2 = np.random.randint(low=-5,high=5,size=(d,c)) \n",
    "            dotProduct = np.dot(mat1,mat2)\n",
    "\n",
    "            dp = np.array(matxMultiply(mat1,mat2))\n",
    "\n",
    "            self.assertTrue((dotProduct == dp).all())\n",
    "\n",
    "\n",
    "    def test_augmentMatrix(self):\n",
    "\n",
    "        for _ in range(10):\n",
    "            r,c = np.random.randint(low=1,high=25,size=2)\n",
    "            A = np.random.randint(low=-10,high=10,size=(r,c))\n",
    "            b = np.random.randint(low=-10,high=10,size=(r,1))\n",
    "           \n",
    "            Ab = np.array(augmentMatrix(A.tolist(),b.tolist()))\n",
    "            \n",
    "            ab = np.hstack((A,b))\n",
    "            \n",
    "            \n",
    "            self.assertTrue((Ab == ab).all())\n",
    "\n",
    "    def test_swapRows(self):\n",
    "        for _ in range(10):\n",
    "            r,c = np.random.randint(low=1,high=25,size=2)\n",
    "            matrix = np.random.random((r,c))\n",
    "\n",
    "            mat = matrix.tolist()\n",
    "\n",
    "            r1, r2 = np.random.randint(0,r, size = 2)\n",
    "            swapRows(mat,r1,r2)\n",
    "\n",
    "            matrix[[r1,r2]] = matrix[[r2,r1]]\n",
    "\n",
    "            self.assertTrue((matrix == np.array(mat)).all())\n",
    "\n",
    "    def test_scaleRow(self):\n",
    "\n",
    "        for _ in range(10):\n",
    "            r,c = np.random.randint(low=1,high=25,size=2)\n",
    "            matrix = np.random.random((r,c))\n",
    "\n",
    "            mat = matrix.tolist()\n",
    "\n",
    "            rr = np.random.randint(0,r)\n",
    "            with self.assertRaises(ValueError):\n",
    "                scaleRow(mat,rr,0)\n",
    "\n",
    "            scale = np.random.randint(low=1,high=10)\n",
    "            scaleRow(mat,rr,scale)\n",
    "            matrix[rr] *= scale\n",
    "\n",
    "            self.assertTrue((matrix == np.array(mat)).all())\n",
    "            \n",
    "    \n",
    "    def test_addScaleRow(self):\n",
    "\n",
    "        for _ in range(10):\n",
    "            r,c = np.random.randint(low=1,high=25,size=2)\n",
    "            matrix = np.random.random((r,c))\n",
    "\n",
    "            mat = matrix.tolist()\n",
    "\n",
    "            r1,r2 = np.random.randint(0,r,size=2)\n",
    "\n",
    "            scale = np.random.randint(low=1,high=10)\n",
    "            addScaledRow(mat,r1,r2,scale)\n",
    "            matrix[r1] += scale * matrix[r2]\n",
    "\n",
    "            self.assertTrue((matrix == np.array(mat)).all())\n",
    "\n",
    "\n",
    "    def test_gj_Solve(self):\n",
    "\n",
    "        for _ in range(10):\n",
    "            r = np.random.randint(low=3,high=10)\n",
    "            A = np.random.randint(low=-10,high=10,size=(r,r))\n",
    "            b = np.arange(r).reshape((r,1))\n",
    "            #print A,b\n",
    "            x = gj_Solve(A.tolist(),b.tolist())\n",
    "            if np.linalg.matrix_rank(A) < r:\n",
    "                self.assertEqual(x,None)\n",
    "            else:\n",
    "                #Ax = matxMultiply(A.tolist(),x)\n",
    "                Ax = np.dot(A,np.array(x))\n",
    "                loss = np.mean((Ax - b)**2)                \n",
    "                #print Ax\n",
    "                #print b\n",
    "                #print loss                \n",
    "                self.assertTrue(loss<0.1)\n",
    "\n",
    "\n",
    "suite = unittest.TestLoader().loadTestsFromTestCase(LinearRegressionTestCase)\n",
    "unittest.TextTestRunner(verbosity=3).run(suite)"
   ]
  },
  {
   "cell_type": "code",
   "execution_count": null,
   "metadata": {
    "collapsed": true
   },
   "outputs": [],
   "source": []
  }
 ],
 "metadata": {
  "anaconda-cloud": {},
  "celltoolbar": "Raw Cell Format",
  "kernelspec": {
   "display_name": "Python 2",
   "language": "python",
   "name": "python2"
  },
  "language_info": {
   "codemirror_mode": {
    "name": "ipython",
    "version": 2
   },
   "file_extension": ".py",
   "mimetype": "text/x-python",
   "name": "python",
   "nbconvert_exporter": "python",
   "pygments_lexer": "ipython2",
   "version": "2.7.13"
  }
 },
 "nbformat": 4,
 "nbformat_minor": 2
}
